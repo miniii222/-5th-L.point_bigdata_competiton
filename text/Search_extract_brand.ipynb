{
 "cells": [
  {
   "cell_type": "code",
   "execution_count": 22,
   "metadata": {},
   "outputs": [],
   "source": [
    "from konlpy.tag import Kkma\n",
    "from konlpy.utils import pprint\n",
    "import pandas as pd\n",
    "import numpy as np"
   ]
  },
  {
   "cell_type": "markdown",
   "metadata": {},
   "source": [
    "브랜드 이름 추출"
   ]
  },
  {
   "cell_type": "code",
   "execution_count": 5,
   "metadata": {},
   "outputs": [
    {
     "data": {
      "text/html": [
       "<div>\n",
       "<style scoped>\n",
       "    .dataframe tbody tr th:only-of-type {\n",
       "        vertical-align: middle;\n",
       "    }\n",
       "\n",
       "    .dataframe tbody tr th {\n",
       "        vertical-align: top;\n",
       "    }\n",
       "\n",
       "    .dataframe thead th {\n",
       "        text-align: right;\n",
       "    }\n",
       "</style>\n",
       "<table border=\"1\" class=\"dataframe\">\n",
       "  <thead>\n",
       "    <tr style=\"text-align: right;\">\n",
       "      <th></th>\n",
       "      <th>CLNT_ID</th>\n",
       "      <th>SESS_ID</th>\n",
       "      <th>KWD_NM</th>\n",
       "      <th>SEARCH_CNT</th>\n",
       "    </tr>\n",
       "  </thead>\n",
       "  <tbody>\n",
       "    <tr>\n",
       "      <th>0</th>\n",
       "      <td>5607714</td>\n",
       "      <td>7112876</td>\n",
       "      <td>빌리프 아이크림</td>\n",
       "      <td>6</td>\n",
       "    </tr>\n",
       "    <tr>\n",
       "      <th>1</th>\n",
       "      <td>5607714</td>\n",
       "      <td>4090791</td>\n",
       "      <td>프리메라 마스크팩</td>\n",
       "      <td>3</td>\n",
       "    </tr>\n",
       "    <tr>\n",
       "      <th>2</th>\n",
       "      <td>5607714</td>\n",
       "      <td>4090791</td>\n",
       "      <td>여성청결제</td>\n",
       "      <td>1</td>\n",
       "    </tr>\n",
       "    <tr>\n",
       "      <th>3</th>\n",
       "      <td>5612428</td>\n",
       "      <td>1876482</td>\n",
       "      <td>명품가방</td>\n",
       "      <td>1</td>\n",
       "    </tr>\n",
       "    <tr>\n",
       "      <th>4</th>\n",
       "      <td>5612428</td>\n",
       "      <td>658123</td>\n",
       "      <td>콩순이 아이스크림</td>\n",
       "      <td>1</td>\n",
       "    </tr>\n",
       "  </tbody>\n",
       "</table>\n",
       "</div>"
      ],
      "text/plain": [
       "   CLNT_ID  SESS_ID     KWD_NM  SEARCH_CNT\n",
       "0  5607714  7112876   빌리프 아이크림           6\n",
       "1  5607714  4090791  프리메라 마스크팩           3\n",
       "2  5607714  4090791      여성청결제           1\n",
       "3  5612428  1876482       명품가방           1\n",
       "4  5612428   658123  콩순이 아이스크림           1"
      ]
     },
     "execution_count": 5,
     "metadata": {},
     "output_type": "execute_result"
    }
   ],
   "source": [
    "search1 = pd.read_csv('C:/Users/wjssm/Desktop/lpoint/data/02.Search1.csv')\n",
    "search1.head()"
   ]
  },
  {
   "cell_type": "code",
   "execution_count": 7,
   "metadata": {},
   "outputs": [
    {
     "data": {
      "text/plain": [
       "0     빌리프 아이크림\n",
       "1    프리메라 마스크팩\n",
       "2        여성청결제\n",
       "3         명품가방\n",
       "4    콩순이 아이스크림\n",
       "Name: KWD_NM, dtype: object"
      ]
     },
     "execution_count": 7,
     "metadata": {},
     "output_type": "execute_result"
    }
   ],
   "source": [
    "search1['KWD_NM'].head()"
   ]
  },
  {
   "cell_type": "code",
   "execution_count": 26,
   "metadata": {},
   "outputs": [],
   "source": [
    "kkma = Kkma()"
   ]
  },
  {
   "cell_type": "code",
   "execution_count": 27,
   "metadata": {},
   "outputs": [
    {
     "name": "stdout",
     "output_type": "stream",
     "text": [
      "['질문', '건의', '건의사항', '사항', '깃헙', '이슈', '트래커']\n"
     ]
    }
   ],
   "source": [
    "pprint(kkma.nouns(u'질문이나 건의사항은 깃헙 이슈 트래커에 남겨주세요.'))"
   ]
  },
  {
   "cell_type": "code",
   "execution_count": 12,
   "metadata": {},
   "outputs": [
    {
     "ename": "TypeError",
     "evalue": "nouns() missing 1 required positional argument: 'self'",
     "output_type": "error",
     "traceback": [
      "\u001b[1;31m---------------------------------------------------------------------------\u001b[0m",
      "\u001b[1;31mTypeError\u001b[0m                                 Traceback (most recent call last)",
      "\u001b[1;32m<ipython-input-12-7694b6d5a994>\u001b[0m in \u001b[0;36m<module>\u001b[1;34m()\u001b[0m\n\u001b[1;32m----> 1\u001b[1;33m \u001b[0mKkma\u001b[0m\u001b[1;33m.\u001b[0m\u001b[0mnouns\u001b[0m\u001b[1;33m(\u001b[0m\u001b[0mphrase\u001b[0m \u001b[1;33m=\u001b[0m \u001b[1;34m\"빌리프 아이크림\"\u001b[0m\u001b[1;33m)\u001b[0m\u001b[1;33m\u001b[0m\u001b[0m\n\u001b[0m",
      "\u001b[1;31mTypeError\u001b[0m: nouns() missing 1 required positional argument: 'self'"
     ]
    }
   ],
   "source": [
    "Kkma.nouns(phrase = \"빌리프 아이크림\")"
   ]
  },
  {
   "cell_type": "code",
   "execution_count": 13,
   "metadata": {},
   "outputs": [
    {
     "name": "stdout",
     "output_type": "stream",
     "text": [
      "['열심히', '코딩', '한', '당신', ',', '연휴', '에는', '여행', '을', '가봐요']\n"
     ]
    }
   ],
   "source": [
    "from konlpy.tag import Okt\n",
    "okt=Okt()\n",
    "print(okt.morphs(\"열심히 코딩한 당신, 연휴에는 여행을 가봐요\"))"
   ]
  },
  {
   "cell_type": "code",
   "execution_count": 29,
   "metadata": {},
   "outputs": [
    {
     "name": "stdout",
     "output_type": "stream",
     "text": [
      "['빌', '리프', '아이', '크림']\n",
      "['프리', '메라', '마스크', '팩']\n",
      "['여성', '청', '결제']\n",
      "['명품', '가방']\n",
      "['콩', '순이', '아이스크림']\n",
      "['블루', '독', '티셔츠', '남아']\n",
      "['쉬폰', '원피스']\n",
      "['여성', '쉬폰', '블라우스']\n",
      "['임산부', '팬티']\n",
      "['임산부', '원피스']\n",
      "['베', '베드', '피노']\n",
      "['쁘띠', '뮤']\n",
      "['베', '베드', '피노', '티셔츠']\n",
      "['남성', '반', '팔', '티셔츠']\n",
      "['메트로', '시티', '지갑']\n",
      "['닥스', '양말', '선물', '세트']\n",
      "['크로커다일']\n",
      "['크로커다일', '레이디']\n",
      "['앤듀', '셔츠']\n",
      "['옷', '커버']\n",
      "['헤지', '스', '남성']\n",
      "['올리', '비안', '로렌']\n",
      "['올', '즙', '건강', '즙']\n",
      "['헤지', '스']\n",
      "['헤지', '스', '남성', '티셔츠']\n",
      "['바이', '네', '르', '여성화']\n",
      "['올리', '비안', '로렌']\n",
      "['나이스', '클랍', '팬츠']\n",
      "['닥스', '지갑']\n",
      "['올리', '비안', '로렌', '바지']\n"
     ]
    }
   ],
   "source": [
    "for word in search1['KWD_NM'].head(30) :\n",
    "    print(okt.morphs(word))"
   ]
  }
 ],
 "metadata": {
  "kernelspec": {
   "display_name": "Python 3",
   "language": "python",
   "name": "python3"
  },
  "language_info": {
   "codemirror_mode": {
    "name": "ipython",
    "version": 3
   },
   "file_extension": ".py",
   "mimetype": "text/x-python",
   "name": "python",
   "nbconvert_exporter": "python",
   "pygments_lexer": "ipython3",
   "version": "3.6.5"
  }
 },
 "nbformat": 4,
 "nbformat_minor": 2
}
