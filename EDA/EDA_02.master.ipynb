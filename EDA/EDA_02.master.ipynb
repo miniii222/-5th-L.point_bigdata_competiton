{
 "cells": [
  {
   "cell_type": "code",
   "execution_count": 1,
   "metadata": {},
   "outputs": [],
   "source": [
    "import numpy as np\n",
    "import pandas as pd"
   ]
  },
  {
   "cell_type": "code",
   "execution_count": 2,
   "metadata": {},
   "outputs": [],
   "source": [
    "product = pd.read_csv('C:/Users/wjssm/Desktop/lpoint/data/01-2.Product.csv', dtype={\"CLNT_ID\":np.str, \"SESS_ID\":np.str},thousands=\",\")"
   ]
  },
  {
   "cell_type": "code",
   "execution_count": 3,
   "metadata": {},
   "outputs": [
    {
     "data": {
      "text/html": [
       "<div>\n",
       "<style scoped>\n",
       "    .dataframe tbody tr th:only-of-type {\n",
       "        vertical-align: middle;\n",
       "    }\n",
       "\n",
       "    .dataframe tbody tr th {\n",
       "        vertical-align: top;\n",
       "    }\n",
       "\n",
       "    .dataframe thead th {\n",
       "        text-align: right;\n",
       "    }\n",
       "</style>\n",
       "<table border=\"1\" class=\"dataframe\">\n",
       "  <thead>\n",
       "    <tr style=\"text-align: right;\">\n",
       "      <th></th>\n",
       "      <th>CLNT_ID</th>\n",
       "      <th>SESS_ID</th>\n",
       "      <th>HITS_SEQ</th>\n",
       "      <th>PD_C</th>\n",
       "      <th>PD_BRA_NM</th>\n",
       "      <th>PD_BUY_AM</th>\n",
       "      <th>PD_BUY_CT</th>\n",
       "    </tr>\n",
       "  </thead>\n",
       "  <tbody>\n",
       "    <tr>\n",
       "      <th>0</th>\n",
       "      <td>4139680</td>\n",
       "      <td>07605037</td>\n",
       "      <td>12</td>\n",
       "      <td>642112</td>\n",
       "      <td>바비브라운</td>\n",
       "      <td>39000</td>\n",
       "      <td>1</td>\n",
       "    </tr>\n",
       "    <tr>\n",
       "      <th>1</th>\n",
       "      <td>4140076</td>\n",
       "      <td>10189797</td>\n",
       "      <td>13</td>\n",
       "      <td>570603</td>\n",
       "      <td>데상트</td>\n",
       "      <td>39000</td>\n",
       "      <td>2</td>\n",
       "    </tr>\n",
       "    <tr>\n",
       "      <th>2</th>\n",
       "      <td>4142395</td>\n",
       "      <td>06158159</td>\n",
       "      <td>85</td>\n",
       "      <td>179538</td>\n",
       "      <td>아베다</td>\n",
       "      <td>39000</td>\n",
       "      <td>1</td>\n",
       "    </tr>\n",
       "    <tr>\n",
       "      <th>3</th>\n",
       "      <td>4144914</td>\n",
       "      <td>07935714</td>\n",
       "      <td>12</td>\n",
       "      <td>554336</td>\n",
       "      <td>아디다스 키즈</td>\n",
       "      <td>39000</td>\n",
       "      <td>1</td>\n",
       "    </tr>\n",
       "    <tr>\n",
       "      <th>4</th>\n",
       "      <td>4144917</td>\n",
       "      <td>06406509</td>\n",
       "      <td>78</td>\n",
       "      <td>190306</td>\n",
       "      <td>데코르테</td>\n",
       "      <td>39000</td>\n",
       "      <td>5</td>\n",
       "    </tr>\n",
       "  </tbody>\n",
       "</table>\n",
       "</div>"
      ],
      "text/plain": [
       "   CLNT_ID   SESS_ID  HITS_SEQ    PD_C PD_BRA_NM  PD_BUY_AM  PD_BUY_CT\n",
       "0  4139680  07605037        12  642112     바비브라운      39000          1\n",
       "1  4140076  10189797        13  570603       데상트      39000          2\n",
       "2  4142395  06158159        85  179538       아베다      39000          1\n",
       "3  4144914  07935714        12  554336   아디다스 키즈      39000          1\n",
       "4  4144917  06406509        78  190306      데코르테      39000          5"
      ]
     },
     "execution_count": 3,
     "metadata": {},
     "output_type": "execute_result"
    }
   ],
   "source": [
    "product.head()"
   ]
  },
  {
   "cell_type": "code",
   "execution_count": 4,
   "metadata": {},
   "outputs": [],
   "source": [
    "master = pd.read_csv('C:/Users/wjssm/Desktop/lpoint/data/06.Master.csv', dtype={\"PD_C\":np.str})"
   ]
  },
  {
   "cell_type": "code",
   "execution_count": 5,
   "metadata": {},
   "outputs": [
    {
     "data": {
      "text/html": [
       "<div>\n",
       "<style scoped>\n",
       "    .dataframe tbody tr th:only-of-type {\n",
       "        vertical-align: middle;\n",
       "    }\n",
       "\n",
       "    .dataframe tbody tr th {\n",
       "        vertical-align: top;\n",
       "    }\n",
       "\n",
       "    .dataframe thead th {\n",
       "        text-align: right;\n",
       "    }\n",
       "</style>\n",
       "<table border=\"1\" class=\"dataframe\">\n",
       "  <thead>\n",
       "    <tr style=\"text-align: right;\">\n",
       "      <th></th>\n",
       "      <th>PD_C</th>\n",
       "      <th>PD_NM</th>\n",
       "      <th>CLAC1_NM</th>\n",
       "      <th>CLAC2_NM</th>\n",
       "      <th>CLAC3_NM</th>\n",
       "    </tr>\n",
       "  </thead>\n",
       "  <tbody>\n",
       "    <tr>\n",
       "      <th>0</th>\n",
       "      <td>064382</td>\n",
       "      <td>언더아머 남성 UA HG 아머 모크 LS 1289559-001 - 블랙 / MD[95]</td>\n",
       "      <td>스포츠패션</td>\n",
       "      <td>남성일반스포츠의류</td>\n",
       "      <td>남성스포츠티셔츠</td>\n",
       "    </tr>\n",
       "    <tr>\n",
       "      <th>1</th>\n",
       "      <td>062282</td>\n",
       "      <td>여자 플라워덧신 2족선물세트 17403-2set</td>\n",
       "      <td>속옷/양말/홈웨어</td>\n",
       "      <td>여성양말류</td>\n",
       "      <td>여성일반양말</td>\n",
       "    </tr>\n",
       "    <tr>\n",
       "      <th>2</th>\n",
       "      <td>061729</td>\n",
       "      <td>88A2933253배트맨스웨트티 - 블랙 / 130</td>\n",
       "      <td>유아동의류</td>\n",
       "      <td>유아의류상의</td>\n",
       "      <td>영유아티셔츠/탑</td>\n",
       "    </tr>\n",
       "    <tr>\n",
       "      <th>3</th>\n",
       "      <td>061537</td>\n",
       "      <td>닥터마틴 아드리안 블랙, 체리레드 - 02_체리레드 / 250mm(6)</td>\n",
       "      <td>패션잡화</td>\n",
       "      <td>남성화</td>\n",
       "      <td>남성부츠</td>\n",
       "    </tr>\n",
       "    <tr>\n",
       "      <th>4</th>\n",
       "      <td>058820</td>\n",
       "      <td>여성 그레이 스트라이프 퍼프 소매 블라우스 (128865YQ33) - 회색(앤틱실버...</td>\n",
       "      <td>남성의류</td>\n",
       "      <td>남성의류상의</td>\n",
       "      <td>남성남방셔츠</td>\n",
       "    </tr>\n",
       "  </tbody>\n",
       "</table>\n",
       "</div>"
      ],
      "text/plain": [
       "     PD_C                                              PD_NM   CLAC1_NM  \\\n",
       "0  064382   언더아머 남성 UA HG 아머 모크 LS 1289559-001 - 블랙 / MD[95]      스포츠패션   \n",
       "1  062282                         여자 플라워덧신 2족선물세트 17403-2set  속옷/양말/홈웨어   \n",
       "2  061729                       88A2933253배트맨스웨트티 - 블랙 / 130      유아동의류   \n",
       "3  061537            닥터마틴 아드리안 블랙, 체리레드 - 02_체리레드 / 250mm(6)       패션잡화   \n",
       "4  058820  여성 그레이 스트라이프 퍼프 소매 블라우스 (128865YQ33) - 회색(앤틱실버...       남성의류   \n",
       "\n",
       "    CLAC2_NM  CLAC3_NM  \n",
       "0  남성일반스포츠의류  남성스포츠티셔츠  \n",
       "1      여성양말류    여성일반양말  \n",
       "2     유아의류상의  영유아티셔츠/탑  \n",
       "3        남성화      남성부츠  \n",
       "4     남성의류상의    남성남방셔츠  "
      ]
     },
     "execution_count": 5,
     "metadata": {},
     "output_type": "execute_result"
    }
   ],
   "source": [
    "master.head()"
   ]
  },
  {
   "cell_type": "code",
   "execution_count": 10,
   "metadata": {},
   "outputs": [
    {
     "data": {
      "text/plain": [
       "(847652, 5)"
      ]
     },
     "execution_count": 10,
     "metadata": {},
     "output_type": "execute_result"
    }
   ],
   "source": [
    "master.shape"
   ]
  },
  {
   "cell_type": "code",
   "execution_count": 42,
   "metadata": {},
   "outputs": [],
   "source": [
    "master['CLAC0_NM'] = \"\""
   ]
  },
  {
   "cell_type": "code",
   "execution_count": null,
   "metadata": {},
   "outputs": [],
   "source": [
    "#패션의류        '속옷/양말/홈웨어' , '남성의류', '여성의류  , '패션잡화',\n",
    "#스포츠/레저         '스포츠패션' , '헬스/피트니스' , '시즌스포츠', '아웃도어/레저', '구기/필드스포츠', '자동차용품'\n",
    "#화장품/뷰티    '화장품/뷰티케어', '퍼스널케어',\n",
    "\n",
    "#식품        '건강식품', '과일', '냉장식품', '축산물', '냉동식품', '음료',\n",
    "#유아동         '출산/육아용품', '유아동의류', '완구',\n",
    "\n",
    "#주방/생활/건강    '주방잡화',  '식기/조리기구', '문구/사무용품', '세제/위생', '청소/세탁/욕실용품',\n",
    "\n",
    "#가구/침구/인테리어        '침구/수예', '가구', '인테리어/조명',\n",
    "#가전/디지털    '영상/음향가전',  '계절가전', '컴퓨터', '냉장/세탁가전', '모바일', '생활/주방가전',\n",
    "#반려동물        '원예/애완',\n",
    "#여행/서비스/금융   '상품권',"
   ]
  },
  {
   "cell_type": "code",
   "execution_count": 73,
   "metadata": {
    "scrolled": true
   },
   "outputs": [],
   "source": [
    "master['CLAC0_NM'] = np.where(master['CLAC1_NM'].isin(['속옷/양말/홈웨어','남성의류' ,'여성의류','패션잡화']),\n",
    "                              \"패션의류\",master['CLAC0_NM'])\n",
    "\n",
    "master['CLAC0_NM'] = np.where(master['CLAC1_NM'].isin(['스포츠패션','헬스/피트니스' ,'시즌스포츠','아웃도어/레저','구기/필드스포츠','자동차용품']),\n",
    "                              \"스포츠/레저\",master['CLAC0_NM'])\n",
    "\n",
    "master['CLAC0_NM'] = np.where(master['CLAC1_NM'].isin(['화장품/뷰티케어', '퍼스널케어']),\n",
    "                              \"화장품/뷰티\",master['CLAC0_NM'])\n",
    "\n",
    "master['CLAC0_NM'] = np.where(master['CLAC1_NM'].isin(['건강식품', '과일', '냉장식품', '축산물', '냉동식품', '음료']),\n",
    "                              \"식품\",master['CLAC0_NM'])\n",
    "\n",
    "master['CLAC0_NM'] = np.where(master['CLAC1_NM'].isin(['출산/육아용품', '유아동의류', '완구']),\n",
    "                              \"유아동\",master['CLAC0_NM'])\n",
    "\n",
    "master['CLAC0_NM'] = np.where(master['CLAC1_NM'].isin(['주방잡화',  '식기/조리기구', '문구/사무용품', '세제/위생', '청소/세탁/욕실용품']),\n",
    "                              \"주방/생활/건강\",master['CLAC0_NM'])\n",
    "\n",
    "master['CLAC0_NM'] = np.where(master['CLAC1_NM'].isin(['침구/수예', '가구', '인테리어/조명']),\n",
    "                              \"가구/침구/인테리어\",master['CLAC0_NM'])\n",
    "\n",
    "master['CLAC0_NM'] = np.where(master['CLAC1_NM'].isin(['영상/음향가전',  '계절가전', '컴퓨터', '냉장/세탁가전', '모바일', '생활/주방가전']),\n",
    "                              \"가전/디지털\",master['CLAC0_NM'])\n",
    "\n",
    "master['CLAC0_NM'] = np.where(master['CLAC1_NM'].isin(['원예/애완']),\n",
    "                              \"반려동물\",master['CLAC0_NM'])\n",
    "\n",
    "master['CLAC0_NM'] = np.where(master['CLAC1_NM'].isin([\"상품권\"]),\n",
    "                              \"여행/서비스/금융\",master['CLAC0_NM'])"
   ]
  },
  {
   "cell_type": "code",
   "execution_count": 76,
   "metadata": {},
   "outputs": [
    {
     "data": {
      "text/html": [
       "<div>\n",
       "<style scoped>\n",
       "    .dataframe tbody tr th:only-of-type {\n",
       "        vertical-align: middle;\n",
       "    }\n",
       "\n",
       "    .dataframe tbody tr th {\n",
       "        vertical-align: top;\n",
       "    }\n",
       "\n",
       "    .dataframe thead th {\n",
       "        text-align: right;\n",
       "    }\n",
       "</style>\n",
       "<table border=\"1\" class=\"dataframe\">\n",
       "  <thead>\n",
       "    <tr style=\"text-align: right;\">\n",
       "      <th></th>\n",
       "      <th>PD_C</th>\n",
       "      <th>PD_NM</th>\n",
       "      <th>CLAC1_NM</th>\n",
       "      <th>CLAC2_NM</th>\n",
       "      <th>CLAC3_NM</th>\n",
       "      <th>CLAC0_NM</th>\n",
       "    </tr>\n",
       "  </thead>\n",
       "  <tbody>\n",
       "    <tr>\n",
       "      <th>847647</th>\n",
       "      <td>400721</td>\n",
       "      <td>[피핀] 클레르 박스 롱티셔츠 103764 - ivory / FREE ◈85564075◈</td>\n",
       "      <td>여성의류</td>\n",
       "      <td>여성의류상의</td>\n",
       "      <td>여성티셔츠/탑</td>\n",
       "      <td>패션의류</td>\n",
       "    </tr>\n",
       "    <tr>\n",
       "      <th>847648</th>\n",
       "      <td>400382</td>\n",
       "      <td>[바니플랫]여성플랫/BNF63011EN - 브라운 / 245 ◈83660832◈</td>\n",
       "      <td>패션잡화</td>\n",
       "      <td>여성화</td>\n",
       "      <td>여성플랫</td>\n",
       "      <td>패션의류</td>\n",
       "    </tr>\n",
       "    <tr>\n",
       "      <th>847649</th>\n",
       "      <td>400197</td>\n",
       "      <td>섀르반 올인원 수영복 (K14D5DM231) - BL/110</td>\n",
       "      <td>시즌스포츠</td>\n",
       "      <td>수영/물놀이</td>\n",
       "      <td>아동수영복</td>\n",
       "      <td>스포츠/레저</td>\n",
       "    </tr>\n",
       "    <tr>\n",
       "      <th>847650</th>\n",
       "      <td>399225</td>\n",
       "      <td>링클플리츠주름밴딩스커트(CFHM1SK8821) - 블랙 / FREE</td>\n",
       "      <td>여성의류</td>\n",
       "      <td>여성의류하의</td>\n",
       "      <td>여성스커트</td>\n",
       "      <td>패션의류</td>\n",
       "    </tr>\n",
       "    <tr>\n",
       "      <th>847651</th>\n",
       "      <td>306289</td>\n",
       "      <td>클라이마쿨 쇼츠 [CX3564] - CX3564(그레이) / M</td>\n",
       "      <td>스포츠패션</td>\n",
       "      <td>남성일반스포츠의류</td>\n",
       "      <td>남성일반스포츠바지</td>\n",
       "      <td>스포츠/레저</td>\n",
       "    </tr>\n",
       "  </tbody>\n",
       "</table>\n",
       "</div>"
      ],
      "text/plain": [
       "          PD_C                                              PD_NM CLAC1_NM  \\\n",
       "847647  400721  [피핀] 클레르 박스 롱티셔츠 103764 - ivory / FREE ◈85564075◈     여성의류   \n",
       "847648  400382       [바니플랫]여성플랫/BNF63011EN - 브라운 / 245 ◈83660832◈     패션잡화   \n",
       "847649  400197                  섀르반 올인원 수영복 (K14D5DM231) - BL/110    시즌스포츠   \n",
       "847650  399225              링클플리츠주름밴딩스커트(CFHM1SK8821) - 블랙 / FREE     여성의류   \n",
       "847651  306289                클라이마쿨 쇼츠 [CX3564] - CX3564(그레이) / M    스포츠패션   \n",
       "\n",
       "         CLAC2_NM   CLAC3_NM CLAC0_NM  \n",
       "847647     여성의류상의    여성티셔츠/탑     패션의류  \n",
       "847648        여성화       여성플랫     패션의류  \n",
       "847649     수영/물놀이      아동수영복   스포츠/레저  \n",
       "847650     여성의류하의      여성스커트     패션의류  \n",
       "847651  남성일반스포츠의류  남성일반스포츠바지   스포츠/레저  "
      ]
     },
     "execution_count": 76,
     "metadata": {},
     "output_type": "execute_result"
    }
   ],
   "source": [
    "master.tail()"
   ]
  },
  {
   "cell_type": "code",
   "execution_count": 75,
   "metadata": {},
   "outputs": [],
   "source": [
    "#master data에서 대대분류 새로운 column 분류해서 정리\n",
    "#master.to_csv('06-2.Master.csv',encoding='utf-8',index=False)"
   ]
  },
  {
   "cell_type": "code",
   "execution_count": 79,
   "metadata": {},
   "outputs": [
    {
     "data": {
      "text/plain": [
       "922737"
      ]
     },
     "execution_count": 79,
     "metadata": {},
     "output_type": "execute_result"
    }
   ],
   "source": [
    "product['CLNT_ID'].unique().size"
   ]
  }
 ],
 "metadata": {
  "kernelspec": {
   "display_name": "Python 3",
   "language": "python",
   "name": "python3"
  },
  "language_info": {
   "codemirror_mode": {
    "name": "ipython",
    "version": 3
   },
   "file_extension": ".py",
   "mimetype": "text/x-python",
   "name": "python",
   "nbconvert_exporter": "python",
   "pygments_lexer": "ipython3",
   "version": "3.6.5"
  }
 },
 "nbformat": 4,
 "nbformat_minor": 2
}
