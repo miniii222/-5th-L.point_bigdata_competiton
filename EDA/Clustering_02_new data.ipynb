{
 "cells": [
  {
   "cell_type": "code",
   "execution_count": 1,
   "metadata": {},
   "outputs": [],
   "source": [
    "import numpy as np\n",
    "import pandas as pd"
   ]
  },
  {
   "cell_type": "code",
   "execution_count": 7,
   "metadata": {},
   "outputs": [
    {
     "data": {
      "text/html": [
       "<div>\n",
       "<style scoped>\n",
       "    .dataframe tbody tr th:only-of-type {\n",
       "        vertical-align: middle;\n",
       "    }\n",
       "\n",
       "    .dataframe tbody tr th {\n",
       "        vertical-align: top;\n",
       "    }\n",
       "\n",
       "    .dataframe thead th {\n",
       "        text-align: right;\n",
       "    }\n",
       "</style>\n",
       "<table border=\"1\" class=\"dataframe\">\n",
       "  <thead>\n",
       "    <tr style=\"text-align: right;\">\n",
       "      <th></th>\n",
       "      <th>HITS_SEQ</th>\n",
       "      <th>PD_BUY_AM</th>\n",
       "      <th>PD_BUY_CT</th>\n",
       "      <th>TOT_PAG_VIEW_CT</th>\n",
       "      <th>TOT_SESS_HR_V</th>\n",
       "      <th>CLNT_AGE</th>\n",
       "      <th>GENDER_F</th>\n",
       "      <th>GENDER_M</th>\n",
       "      <th>weekend</th>\n",
       "      <th>DVC_desktop</th>\n",
       "      <th>...</th>\n",
       "      <th>CLAC0_0</th>\n",
       "      <th>CLAC0_1</th>\n",
       "      <th>CLAC0_2</th>\n",
       "      <th>CLAC0_3</th>\n",
       "      <th>CLAC0_4</th>\n",
       "      <th>CLAC0_5</th>\n",
       "      <th>CLAC0_6</th>\n",
       "      <th>CLAC0_7</th>\n",
       "      <th>CLAC0_8</th>\n",
       "      <th>CLAC0_9</th>\n",
       "    </tr>\n",
       "  </thead>\n",
       "  <tbody>\n",
       "    <tr>\n",
       "      <th>0</th>\n",
       "      <td>57.000000</td>\n",
       "      <td>38000.000000</td>\n",
       "      <td>1.0</td>\n",
       "      <td>46.500000</td>\n",
       "      <td>417.000000</td>\n",
       "      <td>20</td>\n",
       "      <td>0</td>\n",
       "      <td>1</td>\n",
       "      <td>1</td>\n",
       "      <td>0.0</td>\n",
       "      <td>...</td>\n",
       "      <td>0</td>\n",
       "      <td>0</td>\n",
       "      <td>0</td>\n",
       "      <td>0.0</td>\n",
       "      <td>0.0</td>\n",
       "      <td>0</td>\n",
       "      <td>0</td>\n",
       "      <td>0.0</td>\n",
       "      <td>2.0</td>\n",
       "      <td>0.0</td>\n",
       "    </tr>\n",
       "    <tr>\n",
       "      <th>1</th>\n",
       "      <td>284.000000</td>\n",
       "      <td>34900.000000</td>\n",
       "      <td>1.0</td>\n",
       "      <td>256.000000</td>\n",
       "      <td>7098.000000</td>\n",
       "      <td>30</td>\n",
       "      <td>1</td>\n",
       "      <td>0</td>\n",
       "      <td>0</td>\n",
       "      <td>0.0</td>\n",
       "      <td>...</td>\n",
       "      <td>0</td>\n",
       "      <td>0</td>\n",
       "      <td>0</td>\n",
       "      <td>0.0</td>\n",
       "      <td>0.0</td>\n",
       "      <td>0</td>\n",
       "      <td>0</td>\n",
       "      <td>0.0</td>\n",
       "      <td>2.0</td>\n",
       "      <td>0.0</td>\n",
       "    </tr>\n",
       "    <tr>\n",
       "      <th>2</th>\n",
       "      <td>58.000000</td>\n",
       "      <td>15360.000000</td>\n",
       "      <td>1.0</td>\n",
       "      <td>98.200000</td>\n",
       "      <td>2169.000000</td>\n",
       "      <td>40</td>\n",
       "      <td>0</td>\n",
       "      <td>1</td>\n",
       "      <td>0</td>\n",
       "      <td>0.0</td>\n",
       "      <td>...</td>\n",
       "      <td>0</td>\n",
       "      <td>0</td>\n",
       "      <td>0</td>\n",
       "      <td>0.0</td>\n",
       "      <td>0.0</td>\n",
       "      <td>0</td>\n",
       "      <td>0</td>\n",
       "      <td>0.0</td>\n",
       "      <td>5.0</td>\n",
       "      <td>0.0</td>\n",
       "    </tr>\n",
       "    <tr>\n",
       "      <th>3</th>\n",
       "      <td>47.333333</td>\n",
       "      <td>7933.333333</td>\n",
       "      <td>1.0</td>\n",
       "      <td>45.666667</td>\n",
       "      <td>1157.666667</td>\n",
       "      <td>40</td>\n",
       "      <td>1</td>\n",
       "      <td>0</td>\n",
       "      <td>2</td>\n",
       "      <td>0.0</td>\n",
       "      <td>...</td>\n",
       "      <td>0</td>\n",
       "      <td>0</td>\n",
       "      <td>0</td>\n",
       "      <td>0.0</td>\n",
       "      <td>0.0</td>\n",
       "      <td>0</td>\n",
       "      <td>1</td>\n",
       "      <td>0.0</td>\n",
       "      <td>0.0</td>\n",
       "      <td>2.0</td>\n",
       "    </tr>\n",
       "    <tr>\n",
       "      <th>4</th>\n",
       "      <td>209.000000</td>\n",
       "      <td>21850.000000</td>\n",
       "      <td>1.0</td>\n",
       "      <td>195.000000</td>\n",
       "      <td>3161.000000</td>\n",
       "      <td>30</td>\n",
       "      <td>1</td>\n",
       "      <td>0</td>\n",
       "      <td>0</td>\n",
       "      <td>0.0</td>\n",
       "      <td>...</td>\n",
       "      <td>0</td>\n",
       "      <td>0</td>\n",
       "      <td>0</td>\n",
       "      <td>1.0</td>\n",
       "      <td>0.0</td>\n",
       "      <td>0</td>\n",
       "      <td>0</td>\n",
       "      <td>0.0</td>\n",
       "      <td>5.0</td>\n",
       "      <td>0.0</td>\n",
       "    </tr>\n",
       "  </tbody>\n",
       "</table>\n",
       "<p>5 rows × 44 columns</p>\n",
       "</div>"
      ],
      "text/plain": [
       "     HITS_SEQ     PD_BUY_AM  PD_BUY_CT  TOT_PAG_VIEW_CT  TOT_SESS_HR_V  \\\n",
       "0   57.000000  38000.000000        1.0        46.500000     417.000000   \n",
       "1  284.000000  34900.000000        1.0       256.000000    7098.000000   \n",
       "2   58.000000  15360.000000        1.0        98.200000    2169.000000   \n",
       "3   47.333333   7933.333333        1.0        45.666667    1157.666667   \n",
       "4  209.000000  21850.000000        1.0       195.000000    3161.000000   \n",
       "\n",
       "   CLNT_AGE  GENDER_F  GENDER_M  weekend  DVC_desktop   ...     CLAC0_0  \\\n",
       "0        20         0         1        1          0.0   ...           0   \n",
       "1        30         1         0        0          0.0   ...           0   \n",
       "2        40         0         1        0          0.0   ...           0   \n",
       "3        40         1         0        2          0.0   ...           0   \n",
       "4        30         1         0        0          0.0   ...           0   \n",
       "\n",
       "   CLAC0_1  CLAC0_2  CLAC0_3  CLAC0_4  CLAC0_5  CLAC0_6  CLAC0_7  CLAC0_8  \\\n",
       "0        0        0      0.0      0.0        0        0      0.0      2.0   \n",
       "1        0        0      0.0      0.0        0        0      0.0      2.0   \n",
       "2        0        0      0.0      0.0        0        0      0.0      5.0   \n",
       "3        0        0      0.0      0.0        0        1      0.0      0.0   \n",
       "4        0        0      1.0      0.0        0        0      0.0      5.0   \n",
       "\n",
       "   CLAC0_9  \n",
       "0      0.0  \n",
       "1      0.0  \n",
       "2      0.0  \n",
       "3      2.0  \n",
       "4      0.0  \n",
       "\n",
       "[5 rows x 44 columns]"
      ]
     },
     "execution_count": 7,
     "metadata": {},
     "output_type": "execute_result"
    }
   ],
   "source": [
    "m2 = pd.read_csv('C:/Users/wjssm/Desktop/lpoint/data/merged_data.csv', dtype={\"CLNT_ID\":np.str, \"SESS_ID\":np.str},thousands=\",\")\n",
    "m2.head()"
   ]
  },
  {
   "cell_type": "code",
   "execution_count": 9,
   "metadata": {},
   "outputs": [
    {
     "data": {
      "text/plain": [
       "(671470, 44)"
      ]
     },
     "execution_count": 9,
     "metadata": {},
     "output_type": "execute_result"
    }
   ],
   "source": [
    "m2.shape"
   ]
  },
  {
   "cell_type": "code",
   "execution_count": 4,
   "metadata": {},
   "outputs": [],
   "source": [
    "from sklearn.preprocessing import MinMaxScaler\n",
    "from sklearn.cluster import KMeans\n",
    "import matplotlib.pyplot as plt"
   ]
  },
  {
   "cell_type": "markdown",
   "metadata": {},
   "source": [
    "#### 20대 여자"
   ]
  },
  {
   "cell_type": "code",
   "execution_count": 10,
   "metadata": {},
   "outputs": [
    {
     "data": {
      "text/html": [
       "<div>\n",
       "<style scoped>\n",
       "    .dataframe tbody tr th:only-of-type {\n",
       "        vertical-align: middle;\n",
       "    }\n",
       "\n",
       "    .dataframe tbody tr th {\n",
       "        vertical-align: top;\n",
       "    }\n",
       "\n",
       "    .dataframe thead th {\n",
       "        text-align: right;\n",
       "    }\n",
       "</style>\n",
       "<table border=\"1\" class=\"dataframe\">\n",
       "  <thead>\n",
       "    <tr style=\"text-align: right;\">\n",
       "      <th></th>\n",
       "      <th>HITS_SEQ</th>\n",
       "      <th>PD_BUY_AM</th>\n",
       "      <th>PD_BUY_CT</th>\n",
       "      <th>TOT_PAG_VIEW_CT</th>\n",
       "      <th>TOT_SESS_HR_V</th>\n",
       "      <th>CLNT_AGE</th>\n",
       "      <th>GENDER_F</th>\n",
       "      <th>GENDER_M</th>\n",
       "      <th>weekend</th>\n",
       "      <th>DVC_desktop</th>\n",
       "      <th>...</th>\n",
       "      <th>CLAC0_0</th>\n",
       "      <th>CLAC0_1</th>\n",
       "      <th>CLAC0_2</th>\n",
       "      <th>CLAC0_3</th>\n",
       "      <th>CLAC0_4</th>\n",
       "      <th>CLAC0_5</th>\n",
       "      <th>CLAC0_6</th>\n",
       "      <th>CLAC0_7</th>\n",
       "      <th>CLAC0_8</th>\n",
       "      <th>CLAC0_9</th>\n",
       "    </tr>\n",
       "  </thead>\n",
       "  <tbody>\n",
       "    <tr>\n",
       "      <th>16</th>\n",
       "      <td>224.333333</td>\n",
       "      <td>7.700000e+04</td>\n",
       "      <td>1.0</td>\n",
       "      <td>219.000000</td>\n",
       "      <td>1259.000000</td>\n",
       "      <td>20</td>\n",
       "      <td>1</td>\n",
       "      <td>0</td>\n",
       "      <td>0</td>\n",
       "      <td>0.0</td>\n",
       "      <td>...</td>\n",
       "      <td>0</td>\n",
       "      <td>0</td>\n",
       "      <td>0</td>\n",
       "      <td>0.0</td>\n",
       "      <td>0.0</td>\n",
       "      <td>0</td>\n",
       "      <td>0</td>\n",
       "      <td>0.0</td>\n",
       "      <td>0.0</td>\n",
       "      <td>3.0</td>\n",
       "    </tr>\n",
       "    <tr>\n",
       "      <th>20</th>\n",
       "      <td>18.000000</td>\n",
       "      <td>1.100000e+06</td>\n",
       "      <td>1.0</td>\n",
       "      <td>67.000000</td>\n",
       "      <td>3155.000000</td>\n",
       "      <td>20</td>\n",
       "      <td>1</td>\n",
       "      <td>0</td>\n",
       "      <td>0</td>\n",
       "      <td>0.0</td>\n",
       "      <td>...</td>\n",
       "      <td>0</td>\n",
       "      <td>0</td>\n",
       "      <td>0</td>\n",
       "      <td>0.0</td>\n",
       "      <td>0.0</td>\n",
       "      <td>0</td>\n",
       "      <td>0</td>\n",
       "      <td>0.0</td>\n",
       "      <td>2.0</td>\n",
       "      <td>0.0</td>\n",
       "    </tr>\n",
       "    <tr>\n",
       "      <th>24</th>\n",
       "      <td>64.500000</td>\n",
       "      <td>9.595000e+04</td>\n",
       "      <td>1.0</td>\n",
       "      <td>64.000000</td>\n",
       "      <td>1488.000000</td>\n",
       "      <td>20</td>\n",
       "      <td>1</td>\n",
       "      <td>0</td>\n",
       "      <td>2</td>\n",
       "      <td>0.0</td>\n",
       "      <td>...</td>\n",
       "      <td>3</td>\n",
       "      <td>0</td>\n",
       "      <td>0</td>\n",
       "      <td>0.0</td>\n",
       "      <td>0.0</td>\n",
       "      <td>0</td>\n",
       "      <td>0</td>\n",
       "      <td>0.0</td>\n",
       "      <td>0.0</td>\n",
       "      <td>1.0</td>\n",
       "    </tr>\n",
       "    <tr>\n",
       "      <th>44</th>\n",
       "      <td>78.000000</td>\n",
       "      <td>4.500000e+04</td>\n",
       "      <td>1.0</td>\n",
       "      <td>92.000000</td>\n",
       "      <td>422.000000</td>\n",
       "      <td>20</td>\n",
       "      <td>1</td>\n",
       "      <td>0</td>\n",
       "      <td>0</td>\n",
       "      <td>0.0</td>\n",
       "      <td>...</td>\n",
       "      <td>0</td>\n",
       "      <td>0</td>\n",
       "      <td>0</td>\n",
       "      <td>0.0</td>\n",
       "      <td>0.0</td>\n",
       "      <td>0</td>\n",
       "      <td>0</td>\n",
       "      <td>0.0</td>\n",
       "      <td>2.0</td>\n",
       "      <td>0.0</td>\n",
       "    </tr>\n",
       "    <tr>\n",
       "      <th>46</th>\n",
       "      <td>19.865385</td>\n",
       "      <td>1.140962e+04</td>\n",
       "      <td>1.0</td>\n",
       "      <td>19.326923</td>\n",
       "      <td>147.211538</td>\n",
       "      <td>20</td>\n",
       "      <td>1</td>\n",
       "      <td>0</td>\n",
       "      <td>17</td>\n",
       "      <td>0.0</td>\n",
       "      <td>...</td>\n",
       "      <td>0</td>\n",
       "      <td>0</td>\n",
       "      <td>0</td>\n",
       "      <td>0.0</td>\n",
       "      <td>52.0</td>\n",
       "      <td>0</td>\n",
       "      <td>0</td>\n",
       "      <td>0.0</td>\n",
       "      <td>0.0</td>\n",
       "      <td>0.0</td>\n",
       "    </tr>\n",
       "  </tbody>\n",
       "</table>\n",
       "<p>5 rows × 44 columns</p>\n",
       "</div>"
      ],
      "text/plain": [
       "      HITS_SEQ     PD_BUY_AM  PD_BUY_CT  TOT_PAG_VIEW_CT  TOT_SESS_HR_V  \\\n",
       "16  224.333333  7.700000e+04        1.0       219.000000    1259.000000   \n",
       "20   18.000000  1.100000e+06        1.0        67.000000    3155.000000   \n",
       "24   64.500000  9.595000e+04        1.0        64.000000    1488.000000   \n",
       "44   78.000000  4.500000e+04        1.0        92.000000     422.000000   \n",
       "46   19.865385  1.140962e+04        1.0        19.326923     147.211538   \n",
       "\n",
       "    CLNT_AGE  GENDER_F  GENDER_M  weekend  DVC_desktop   ...     CLAC0_0  \\\n",
       "16        20         1         0        0          0.0   ...           0   \n",
       "20        20         1         0        0          0.0   ...           0   \n",
       "24        20         1         0        2          0.0   ...           3   \n",
       "44        20         1         0        0          0.0   ...           0   \n",
       "46        20         1         0       17          0.0   ...           0   \n",
       "\n",
       "    CLAC0_1  CLAC0_2  CLAC0_3  CLAC0_4  CLAC0_5  CLAC0_6  CLAC0_7  CLAC0_8  \\\n",
       "16        0        0      0.0      0.0        0        0      0.0      0.0   \n",
       "20        0        0      0.0      0.0        0        0      0.0      2.0   \n",
       "24        0        0      0.0      0.0        0        0      0.0      0.0   \n",
       "44        0        0      0.0      0.0        0        0      0.0      2.0   \n",
       "46        0        0      0.0     52.0        0        0      0.0      0.0   \n",
       "\n",
       "    CLAC0_9  \n",
       "16      3.0  \n",
       "20      0.0  \n",
       "24      1.0  \n",
       "44      0.0  \n",
       "46      0.0  \n",
       "\n",
       "[5 rows x 44 columns]"
      ]
     },
     "execution_count": 10,
     "metadata": {},
     "output_type": "execute_result"
    }
   ],
   "source": [
    "F_20 = m2.loc[(m2['GENDER_F']==1) & (m2['CLNT_AGE']==20)]\n",
    "F_20.head()"
   ]
  },
  {
   "cell_type": "code",
   "execution_count": 11,
   "metadata": {},
   "outputs": [
    {
     "data": {
      "text/plain": [
       "Index(['HITS_SEQ', 'PD_BUY_AM', 'PD_BUY_CT', 'TOT_PAG_VIEW_CT',\n",
       "       'TOT_SESS_HR_V', 'CLNT_AGE', 'GENDER_F', 'GENDER_M', 'weekend',\n",
       "       'DVC_desktop', 'DVC_mobile', 'DVC_tablet', 'ZON_Busan',\n",
       "       'ZON_Chungcheongbuk-do', 'ZON_Chungcheongnam-do', 'ZON_Daegu',\n",
       "       'ZON_Daejeon', 'ZON_Gangwon-do', 'ZON_Gwangju', 'ZON_Gyeonggi-do',\n",
       "       'ZON_Gyeongsangbuk-do', 'ZON_Gyeongsangnam-do', 'ZON_Incheon',\n",
       "       'ZON_Jeju-do', 'ZON_Jeollabuk-do', 'ZON_Jeollanam-do', 'ZON_Seoul',\n",
       "       'ZON_Ulsan', 'month_4', 'month_5', 'month_6', 'month_7', 'month_8',\n",
       "       'month_9', 'CLAC0_0', 'CLAC0_1', 'CLAC0_2', 'CLAC0_3', 'CLAC0_4',\n",
       "       'CLAC0_5', 'CLAC0_6', 'CLAC0_7', 'CLAC0_8', 'CLAC0_9'],\n",
       "      dtype='object')"
      ]
     },
     "execution_count": 11,
     "metadata": {},
     "output_type": "execute_result"
    }
   ],
   "source": [
    "F_20.columns"
   ]
  },
  {
   "cell_type": "code",
   "execution_count": 12,
   "metadata": {},
   "outputs": [
    {
     "data": {
      "text/plain": [
       "Index(['HITS_SEQ', 'PD_BUY_AM', 'PD_BUY_CT', 'TOT_PAG_VIEW_CT',\n",
       "       'TOT_SESS_HR_V', 'CLNT_AGE', 'GENDER_F', 'GENDER_M', 'weekend',\n",
       "       'DVC_desktop', 'DVC_mobile', 'DVC_tablet', 'ZON_Busan',\n",
       "       'ZON_Chungcheongbuk-do', 'ZON_Chungcheongnam-do', 'ZON_Daegu',\n",
       "       'ZON_Daejeon', 'ZON_Gangwon-do', 'ZON_Gwangju', 'ZON_Gyeonggi-do',\n",
       "       'ZON_Gyeongsangbuk-do', 'ZON_Gyeongsangnam-do', 'ZON_Incheon',\n",
       "       'ZON_Jeju-do', 'ZON_Jeollabuk-do', 'ZON_Jeollanam-do', 'ZON_Seoul',\n",
       "       'ZON_Ulsan', 'month_4', 'month_5', 'month_6', 'month_7', 'month_8',\n",
       "       'month_9'],\n",
       "      dtype='object')"
      ]
     },
     "execution_count": 12,
     "metadata": {},
     "output_type": "execute_result"
    }
   ],
   "source": [
    "#대대분류 삭제\n",
    "F_20_drop = F_20.drop(F_20.loc[:, F_20.columns.str.startswith('CLAC0')], axis = 1)\n",
    "F_20_drop.columns"
   ]
  },
  {
   "cell_type": "code",
   "execution_count": 13,
   "metadata": {},
   "outputs": [],
   "source": [
    "mms = MinMaxScaler()\n",
    "mms.fit(F_20_drop) #대대분류 뺀 column들만 갖고\n",
    "F_20_transformed = mms.transform(F_20_drop)"
   ]
  },
  {
   "cell_type": "code",
   "execution_count": 73,
   "metadata": {},
   "outputs": [
    {
     "name": "stdout",
     "output_type": "stream",
     "text": [
      "1\n",
      "2\n",
      "3\n",
      "4\n",
      "5\n",
      "6\n",
      "7\n",
      "8\n",
      "9\n"
     ]
    }
   ],
   "source": [
    "Sum_of_squared_distances = []\n",
    "\n",
    "for k in range(1,10):\n",
    "    km = KMeans(n_clusters=k)\n",
    "    km = km.fit(F_20_transformed)\n",
    "    Sum_of_squared_distances.append(km.inertia_)\n",
    "    print(k)"
   ]
  },
  {
   "cell_type": "code",
   "execution_count": 75,
   "metadata": {},
   "outputs": [
    {
     "data": {
      "image/png": "[encoded data removed]",
      "text/plain": [
       "<Figure size 432x288 with 1 Axes>"
      ]
     },
     "metadata": {},
     "output_type": "display_data"
    }
   ],
   "source": [
    "plt.plot(range(1,10), Sum_of_squared_distances, 'bx-')\n",
    "plt.xlabel('k')\n",
    "plt.ylabel('Sum_of_squared_distances')\n",
    "plt.title('Elbow Method For Optimal k')\n",
    "plt.show()"
   ]
  },
  {
   "cell_type": "code",
   "execution_count": 14,
   "metadata": {},
   "outputs": [],
   "source": [
    "k=3"
   ]
  },
  {
   "cell_type": "code",
   "execution_count": 17,
   "metadata": {},
   "outputs": [
    {
     "data": {
      "text/plain": [
       "KMeans(algorithm='auto', copy_x=True, init='k-means++', max_iter=300,\n",
       "    n_clusters=3, n_init=10, n_jobs=1, precompute_distances='auto',\n",
       "    random_state=None, tol=0.0001, verbose=0)"
      ]
     },
     "execution_count": 17,
     "metadata": {},
     "output_type": "execute_result"
    }
   ],
   "source": [
    "km = KMeans(n_clusters=k, algorithm='auto')\n",
    "km.fit(F_20_transformed)"
   ]
  },
  {
   "cell_type": "code",
   "execution_count": 18,
   "metadata": {},
   "outputs": [
    {
     "data": {
      "text/plain": [
       "Index(['HITS_SEQ', 'PD_BUY_AM', 'PD_BUY_CT', 'TOT_PAG_VIEW_CT',\n",
       "       'TOT_SESS_HR_V', 'CLNT_AGE', 'GENDER_F', 'GENDER_M', 'weekend',\n",
       "       'DVC_desktop', 'DVC_mobile', 'DVC_tablet', 'ZON_Busan',\n",
       "       'ZON_Chungcheongbuk-do', 'ZON_Chungcheongnam-do', 'ZON_Daegu',\n",
       "       'ZON_Daejeon', 'ZON_Gangwon-do', 'ZON_Gwangju', 'ZON_Gyeonggi-do',\n",
       "       'ZON_Gyeongsangbuk-do', 'ZON_Gyeongsangnam-do', 'ZON_Incheon',\n",
       "       'ZON_Jeju-do', 'ZON_Jeollabuk-do', 'ZON_Jeollanam-do', 'ZON_Seoul',\n",
       "       'ZON_Ulsan', 'month_4', 'month_5', 'month_6', 'month_7', 'month_8',\n",
       "       'month_9'],\n",
       "      dtype='object')"
      ]
     },
     "execution_count": 18,
     "metadata": {},
     "output_type": "execute_result"
    }
   ],
   "source": [
    "m2.columns[:34]"
   ]
  },
  {
   "cell_type": "code",
   "execution_count": 19,
   "metadata": {},
   "outputs": [
    {
     "data": {
      "text/html": [
       "<div>\n",
       "<style scoped>\n",
       "    .dataframe tbody tr th:only-of-type {\n",
       "        vertical-align: middle;\n",
       "    }\n",
       "\n",
       "    .dataframe tbody tr th {\n",
       "        vertical-align: top;\n",
       "    }\n",
       "\n",
       "    .dataframe thead th {\n",
       "        text-align: right;\n",
       "    }\n",
       "</style>\n",
       "<table border=\"1\" class=\"dataframe\">\n",
       "  <thead>\n",
       "    <tr style=\"text-align: right;\">\n",
       "      <th></th>\n",
       "      <th>HITS_SEQ</th>\n",
       "      <th>PD_BUY_AM</th>\n",
       "      <th>PD_BUY_CT</th>\n",
       "      <th>TOT_PAG_VIEW_CT</th>\n",
       "      <th>TOT_SESS_HR_V</th>\n",
       "      <th>CLNT_AGE</th>\n",
       "      <th>GENDER_F</th>\n",
       "      <th>GENDER_M</th>\n",
       "      <th>weekend</th>\n",
       "      <th>DVC_desktop</th>\n",
       "      <th>...</th>\n",
       "      <th>ZON_Jeollabuk-do</th>\n",
       "      <th>ZON_Jeollanam-do</th>\n",
       "      <th>ZON_Seoul</th>\n",
       "      <th>ZON_Ulsan</th>\n",
       "      <th>month_4</th>\n",
       "      <th>month_5</th>\n",
       "      <th>month_6</th>\n",
       "      <th>month_7</th>\n",
       "      <th>month_8</th>\n",
       "      <th>month_9</th>\n",
       "    </tr>\n",
       "  </thead>\n",
       "  <tbody>\n",
       "    <tr>\n",
       "      <th>0</th>\n",
       "      <td>0.447351</td>\n",
       "      <td>0.024414</td>\n",
       "      <td>0.0</td>\n",
       "      <td>0.437751</td>\n",
       "      <td>0.092655</td>\n",
       "      <td>0.0</td>\n",
       "      <td>0.0</td>\n",
       "      <td>0.0</td>\n",
       "      <td>0.000000</td>\n",
       "      <td>0.0</td>\n",
       "      <td>...</td>\n",
       "      <td>0.0</td>\n",
       "      <td>0.0</td>\n",
       "      <td>0.027523</td>\n",
       "      <td>0.0</td>\n",
       "      <td>0.00</td>\n",
       "      <td>0.000000</td>\n",
       "      <td>0.000000</td>\n",
       "      <td>0.000000</td>\n",
       "      <td>0.000000</td>\n",
       "      <td>0.038961</td>\n",
       "    </tr>\n",
       "    <tr>\n",
       "      <th>1</th>\n",
       "      <td>0.032193</td>\n",
       "      <td>0.349198</td>\n",
       "      <td>0.0</td>\n",
       "      <td>0.132530</td>\n",
       "      <td>0.232411</td>\n",
       "      <td>0.0</td>\n",
       "      <td>0.0</td>\n",
       "      <td>0.0</td>\n",
       "      <td>0.000000</td>\n",
       "      <td>0.0</td>\n",
       "      <td>...</td>\n",
       "      <td>0.0</td>\n",
       "      <td>0.0</td>\n",
       "      <td>0.018349</td>\n",
       "      <td>0.0</td>\n",
       "      <td>0.00</td>\n",
       "      <td>0.000000</td>\n",
       "      <td>0.000000</td>\n",
       "      <td>0.000000</td>\n",
       "      <td>0.000000</td>\n",
       "      <td>0.025974</td>\n",
       "    </tr>\n",
       "    <tr>\n",
       "      <th>2</th>\n",
       "      <td>0.125755</td>\n",
       "      <td>0.030431</td>\n",
       "      <td>0.0</td>\n",
       "      <td>0.126506</td>\n",
       "      <td>0.109535</td>\n",
       "      <td>0.0</td>\n",
       "      <td>0.0</td>\n",
       "      <td>0.0</td>\n",
       "      <td>0.029851</td>\n",
       "      <td>0.0</td>\n",
       "      <td>...</td>\n",
       "      <td>0.0</td>\n",
       "      <td>0.0</td>\n",
       "      <td>0.036697</td>\n",
       "      <td>0.0</td>\n",
       "      <td>0.02</td>\n",
       "      <td>0.000000</td>\n",
       "      <td>0.040541</td>\n",
       "      <td>0.000000</td>\n",
       "      <td>0.000000</td>\n",
       "      <td>0.000000</td>\n",
       "    </tr>\n",
       "    <tr>\n",
       "      <th>3</th>\n",
       "      <td>0.152918</td>\n",
       "      <td>0.014255</td>\n",
       "      <td>0.0</td>\n",
       "      <td>0.182731</td>\n",
       "      <td>0.030959</td>\n",
       "      <td>0.0</td>\n",
       "      <td>0.0</td>\n",
       "      <td>0.0</td>\n",
       "      <td>0.000000</td>\n",
       "      <td>0.0</td>\n",
       "      <td>...</td>\n",
       "      <td>0.0</td>\n",
       "      <td>0.0</td>\n",
       "      <td>0.000000</td>\n",
       "      <td>0.0</td>\n",
       "      <td>0.04</td>\n",
       "      <td>0.000000</td>\n",
       "      <td>0.000000</td>\n",
       "      <td>0.000000</td>\n",
       "      <td>0.000000</td>\n",
       "      <td>0.000000</td>\n",
       "    </tr>\n",
       "    <tr>\n",
       "      <th>4</th>\n",
       "      <td>0.035946</td>\n",
       "      <td>0.003591</td>\n",
       "      <td>0.0</td>\n",
       "      <td>0.036801</td>\n",
       "      <td>0.010704</td>\n",
       "      <td>0.0</td>\n",
       "      <td>0.0</td>\n",
       "      <td>0.0</td>\n",
       "      <td>0.253731</td>\n",
       "      <td>0.0</td>\n",
       "      <td>...</td>\n",
       "      <td>0.0</td>\n",
       "      <td>0.0</td>\n",
       "      <td>0.000000</td>\n",
       "      <td>0.0</td>\n",
       "      <td>0.16</td>\n",
       "      <td>0.176471</td>\n",
       "      <td>0.108108</td>\n",
       "      <td>0.090909</td>\n",
       "      <td>0.032258</td>\n",
       "      <td>0.090909</td>\n",
       "    </tr>\n",
       "  </tbody>\n",
       "</table>\n",
       "<p>5 rows × 34 columns</p>\n",
       "</div>"
      ],
      "text/plain": [
       "   HITS_SEQ  PD_BUY_AM  PD_BUY_CT  TOT_PAG_VIEW_CT  TOT_SESS_HR_V  CLNT_AGE  \\\n",
       "0  0.447351   0.024414        0.0         0.437751       0.092655       0.0   \n",
       "1  0.032193   0.349198        0.0         0.132530       0.232411       0.0   \n",
       "2  0.125755   0.030431        0.0         0.126506       0.109535       0.0   \n",
       "3  0.152918   0.014255        0.0         0.182731       0.030959       0.0   \n",
       "4  0.035946   0.003591        0.0         0.036801       0.010704       0.0   \n",
       "\n",
       "   GENDER_F  GENDER_M   weekend  DVC_desktop    ...     ZON_Jeollabuk-do  \\\n",
       "0       0.0       0.0  0.000000          0.0    ...                  0.0   \n",
       "1       0.0       0.0  0.000000          0.0    ...                  0.0   \n",
       "2       0.0       0.0  0.029851          0.0    ...                  0.0   \n",
       "3       0.0       0.0  0.000000          0.0    ...                  0.0   \n",
       "4       0.0       0.0  0.253731          0.0    ...                  0.0   \n",
       "\n",
       "   ZON_Jeollanam-do  ZON_Seoul  ZON_Ulsan  month_4   month_5   month_6  \\\n",
       "0               0.0   0.027523        0.0     0.00  0.000000  0.000000   \n",
       "1               0.0   0.018349        0.0     0.00  0.000000  0.000000   \n",
       "2               0.0   0.036697        0.0     0.02  0.000000  0.040541   \n",
       "3               0.0   0.000000        0.0     0.04  0.000000  0.000000   \n",
       "4               0.0   0.000000        0.0     0.16  0.176471  0.108108   \n",
       "\n",
       "    month_7   month_8   month_9  \n",
       "0  0.000000  0.000000  0.038961  \n",
       "1  0.000000  0.000000  0.025974  \n",
       "2  0.000000  0.000000  0.000000  \n",
       "3  0.000000  0.000000  0.000000  \n",
       "4  0.090909  0.032258  0.090909  \n",
       "\n",
       "[5 rows x 34 columns]"
      ]
     },
     "execution_count": 19,
     "metadata": {},
     "output_type": "execute_result"
    }
   ],
   "source": [
    "F_20_transformed = pd.DataFrame(F_20_transformed)\n",
    "F_20_transformed.columns = m2.columns[:34]\n",
    "F_20_transformed.head()"
   ]
  },
  {
   "cell_type": "code",
   "execution_count": 20,
   "metadata": {},
   "outputs": [],
   "source": [
    "F_20_transformed['predict'] = km.predict(F_20_transformed)"
   ]
  },
  {
   "cell_type": "code",
   "execution_count": 23,
   "metadata": {},
   "outputs": [
    {
     "data": {
      "text/plain": [
       "1    55816\n",
       "0    21483\n",
       "2     4945\n",
       "Name: predict, dtype: int64"
      ]
     },
     "execution_count": 23,
     "metadata": {},
     "output_type": "execute_result"
    }
   ],
   "source": [
    "F_20_transformed['predict'].value_counts()"
   ]
  },
  {
   "cell_type": "code",
   "execution_count": 120,
   "metadata": {},
   "outputs": [],
   "source": [
    "F_20_transformed.index = F_20.index"
   ]
  },
  {
   "cell_type": "markdown",
   "metadata": {},
   "source": [
    "## new data"
   ]
  },
  {
   "cell_type": "code",
   "execution_count": 24,
   "metadata": {},
   "outputs": [],
   "source": [
    "import matplotlib.pyplot as pyplot"
   ]
  },
  {
   "cell_type": "code",
   "execution_count": 55,
   "metadata": {},
   "outputs": [],
   "source": [
    "#clac0부터 순서대로\n",
    "labels = ['furniture','electronic','pet','sports','food','travel','baby','kitchen','fashion','beauty']"
   ]
  },
  {
   "cell_type": "code",
   "execution_count": 94,
   "metadata": {},
   "outputs": [],
   "source": [
    "def clustering_index(k, new_data, data, transformed_data, category) :\n",
    "    \n",
    "    #k : clustering 개수\n",
    "    #new_data : new data\n",
    "    #data : F_20 처럼 m2에서 나이와 성별만 지정한 데이터. 대대분류 포함됨\n",
    "    #transformed_data : F_20_transformed 처럼 성별과 나이대를 지정하고, predict column이 추가된 transforemd data\n",
    "    #category : score를 원하는 원하는 대대분류\n",
    "    \n",
    "    for kk in range(k) :\n",
    "        sum_of_sum = data[['CLAC0_0', 'CLAC0_1', 'CLAC0_2', 'CLAC0_3', 'CLAC0_4', 'CLAC0_5','CLAC0_6', 'CLAC0_7', 'CLAC0_8', 'CLAC0_9']].sum()\n",
    "        idx=np.where(F_20_transformed['predict']==kk)\n",
    "\n",
    "        clustering = data.loc[data.index[idx]] \n",
    "        category_rate[kk] = clustering[['CLAC0_0', 'CLAC0_1', 'CLAC0_2', 'CLAC0_3', 'CLAC0_4', 'CLAC0_5','CLAC0_6', 'CLAC0_7', 'CLAC0_8', 'CLAC0_9']].sum()/sum_of_sum\n",
    "\n",
    "    \n",
    "    diatance_from_centers = [0] * k\n",
    "\n",
    "    for i in range(k) :\n",
    "        diatance_from_centers[i] = np.sqrt(sum((km.cluster_centers_[i] - new_data)**2))\n",
    "        \n",
    "    result = [0] * k\n",
    "    for i in range(k) :\n",
    "        result[i] = category_rate[i][category]/diatance_from_centers[i]\n",
    "    \n",
    "    return sum(result)\n",
    "    \n",
    "    "
   ]
  },
  {
   "cell_type": "code",
   "execution_count": 97,
   "metadata": {},
   "outputs": [],
   "source": [
    "import random"
   ]
  },
  {
   "cell_type": "code",
   "execution_count": 131,
   "metadata": {},
   "outputs": [
    {
     "data": {
      "text/plain": [
       "220125"
      ]
     },
     "execution_count": 131,
     "metadata": {},
     "output_type": "execute_result"
    }
   ],
   "source": [
    "#random data generate\n",
    "random_idx = F_20_transformed.index[random.randint(0,len(F_20_transformed))]\n",
    "random_data = F_20_transformed.loc[random_idx, :\"month_9\"]\n",
    "random_idx"
   ]
  },
  {
   "cell_type": "code",
   "execution_count": 132,
   "metadata": {},
   "outputs": [
    {
     "name": "stdout",
     "output_type": "stream",
     "text": [
      "furniture 10.820291579328003\n",
      "electronic 11.242725429386793\n",
      "pet 10.964528455865034\n",
      "sports 9.997844460850864\n",
      "food 11.618034654304784\n",
      "travel 13.260629239085674\n",
      "baby 10.706308540497593\n",
      "kitchen 10.614684294253918\n",
      "fashion 9.369343575955977\n",
      "beauty 11.056851375115766\n"
     ]
    }
   ],
   "source": [
    "for i in range(10) :\n",
    "    print(labels[i], clustering_index(3, random_data, F_20, F_20_transformed, i))"
   ]
  },
  {
   "cell_type": "code",
   "execution_count": 133,
   "metadata": {},
   "outputs": [
    {
     "data": {
      "text/plain": [
       "CLAC0_0    0.0\n",
       "CLAC0_1    0.0\n",
       "CLAC0_2    0.0\n",
       "CLAC0_3    0.0\n",
       "CLAC0_4    0.0\n",
       "CLAC0_5    0.0\n",
       "CLAC0_6    1.0\n",
       "CLAC0_7    0.0\n",
       "CLAC0_8    1.0\n",
       "CLAC0_9    0.0\n",
       "Name: 220125, dtype: float64"
      ]
     },
     "execution_count": 133,
     "metadata": {},
     "output_type": "execute_result"
    }
   ],
   "source": [
    "F_20.loc[random_idx,'CLAC0_0':'CLAC0_9']"
   ]
  }
 ],
 "metadata": {
  "kernelspec": {
   "display_name": "Python 3",
   "language": "python",
   "name": "python3"
  },
  "language_info": {
   "codemirror_mode": {
    "name": "ipython",
    "version": 3
   },
   "file_extension": ".py",
   "mimetype": "text/x-python",
   "name": "python",
   "nbconvert_exporter": "python",
   "pygments_lexer": "ipython3",
   "version": "3.6.5"
  }
 },
 "nbformat": 4,
 "nbformat_minor": 2
}
